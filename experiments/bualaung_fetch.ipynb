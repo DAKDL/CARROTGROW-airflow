{
 "cells": [
  {
   "cell_type": "code",
   "execution_count": 1,
   "metadata": {
    "collapsed": true
   },
   "outputs": [],
   "source": [
    "import logging\n",
    "from selenium.webdriver.common.by import By\n",
    "from selenium import webdriver\n",
    "import time\n",
    "import numpy as np\n",
    "import pandas as pd\n",
    "import threading\n",
    "logger = logging.getLogger()\n",
    "logger.setLevel(logging.INFO)"
   ]
  },
  {
   "cell_type": "code",
   "execution_count": 2,
   "outputs": [],
   "source": [
    "def loading_wait(find_func, arg):\n",
    "    out = None\n",
    "    while True:\n",
    "        out = find_func(*arg)\n",
    "        if out is not None:\n",
    "            break\n",
    "    return out\n"
   ],
   "metadata": {
    "collapsed": false
   }
  },
  {
   "cell_type": "code",
   "execution_count": 97,
   "outputs": [],
   "source": [
    "DRIVER_PATH = \"/Users/vitvaraaravithya/Documents/airflow_final_project/driver/chromedriver\"\n",
    "ROOT_URL = \"https://www.bblam.co.th/en/products/mutual-funds/historical-daily-navs?p_code=B-TREASURY&date_from=13&month_from=02&year_from=2016&date_to=31&month_to=12&year_to=2023\"\n",
    "options = webdriver.ChromeOptions()\n",
    "\n",
    "browser_capabilities = {\"browserName\":\"firefox\",\"browserVersion\":\"112.0\",\"platformName\":\"LINUX\",\"se:noVncPort\":7900,\"se:vncEnabled\":True}\n",
    "\n",
    "driver = webdriver.Remote(\n",
    "    command_executor=\"http://chrome:4444/wd/hub\",\n",
    "    desired_capabilities=browser_capabilities\n",
    ")\n",
    "driver.get(ROOT_URL)\n",
    "div = loading_wait(driver.find_element, (By.CLASS_NAME, \"btn-accept\"))\n",
    "div.click()"
   ],
   "metadata": {
    "collapsed": false
   }
  },
  {
   "cell_type": "code",
   "execution_count": 98,
   "outputs": [],
   "source": [
    "driver.set_window_size(1920, 1080)"
   ],
   "metadata": {
    "collapsed": false
   }
  },
  {
   "cell_type": "code",
   "execution_count": 99,
   "outputs": [],
   "source": [
    "selector = None\n",
    "for i in loading_wait(driver.find_elements, (By.CLASS_NAME, \"cs-placeholder\")):\n",
    "    if i.text == \"B-TREASURY : Bualuang Treasury Fund\":\n",
    "        selector = i\n",
    "\n",
    "selector.click()"
   ],
   "metadata": {
    "collapsed": false
   }
  },
  {
   "cell_type": "code",
   "execution_count": 100,
   "outputs": [],
   "source": [
    "selector = None\n",
    "for i in loading_wait(driver.find_elements, (By.CLASS_NAME, \"cs-placeholder\")):\n",
    "    if i.text == \"B-TREASURY : Bualuang Treasury Fund\":\n",
    "        selector = i\n"
   ],
   "metadata": {
    "collapsed": false
   }
  },
  {
   "cell_type": "code",
   "execution_count": 101,
   "outputs": [],
   "source": [
    "fund_selector = None\n",
    "for i in loading_wait(driver.find_elements, (By.TAG_NAME, \"ul\")):\n",
    "    if \"B-TREASURY\" in i.text:\n",
    "        fund_selector = i\n",
    "        break"
   ],
   "metadata": {
    "collapsed": false
   }
  },
  {
   "cell_type": "code",
   "execution_count": 102,
   "outputs": [],
   "source": [
    "fund_goto = [i.text for i in loading_wait(fund_selector.find_elements, (By.TAG_NAME, 'li')) ]\n"
   ],
   "metadata": {
    "collapsed": false
   }
  },
  {
   "cell_type": "code",
   "execution_count": 90,
   "outputs": [],
   "source": [
    "driver.quit()"
   ],
   "metadata": {
    "collapsed": false
   }
  },
  {
   "cell_type": "code",
   "execution_count": null,
   "outputs": [],
   "source": [
    "from abc import ABC, abstractmethod\n",
    "from typing import Callable\n",
    "class SeleniumCrawler(ABC):\n",
    "\n",
    "    def __init__(self, name: str,  root_url: str, driver_path: str) -> None:\n",
    "        self.name = name\n",
    "        self.root_url = root_url\n",
    "        self.driver_path = driver_path\n",
    "        self.driver = None\n",
    "\n",
    "    @staticmethod\n",
    "    def loading_wait(find_func: Callable, arg: tuple) -> object:\n",
    "        out = None\n",
    "        while True:\n",
    "            out = find_func(*arg)\n",
    "            if out is not None:\n",
    "                break\n",
    "        return out\n",
    "\n",
    "    def get_page(self, page_url: str) -> None:\n",
    "        self.driver.get(page_url)\n",
    "\n",
    "    @abstractmethod\n",
    "    def start(self) -> None:\n",
    "        pass\n",
    "\n",
    "    @abstractmethod\n",
    "    def close(self) -> None:\n",
    "        pass\n",
    "\n",
    "    def status(self):\n",
    "        status = 'inactive'\n",
    "        if self.driver != None:\n",
    "            status = \"active\"\n",
    "        return status\n",
    "\n",
    "    def __str__(self):\n",
    "        status = self.status()\n",
    "        return f\"<SeleniumCrawler {self.name} status: {status}>\""
   ],
   "metadata": {
    "collapsed": false
   }
  },
  {
   "cell_type": "code",
   "execution_count": null,
   "outputs": [],
   "source": [
    "class FetchTableBualuang(SeleniumCrawler):\n",
    "    def __init__(self, driver_path: str, root_url: str, funds_name: str):\n",
    "        self.funds_name = funds_name\n",
    "\n",
    "        self.driver = None\n",
    "        self.table = None\n",
    "\n",
    "    def start(self):\n",
    "\n",
    "        # Goto Root Url\n",
    "        self.get_page(self.root_url)\n",
    "\n",
    "        # Close Popup info\n",
    "        div = self.loading_wait(self.driver.find_element, (By.CLASS_NAME, \"btn-accept\"))\n",
    "        div.click()\n",
    "\n",
    "        # Click fund in Nav bar\n",
    "        self.click_fund_selector()\n",
    "        self.select_fund()\n",
    "\n",
    "        # Crawing table\n",
    "        self.crawing_table()\n",
    "\n",
    "    def click_fund_selector(self):\n",
    "        selector = None\n",
    "        for i in self.loading_wait(self.driver.find_elements, (By.CLASS_NAME, \"cs-placeholder\")):\n",
    "            if i.text == \"B-TREASURY : Bualuang Treasury Fund\":\n",
    "                selector = i\n",
    "                break\n",
    "        selector.click()\n",
    "\n",
    "    def select_fund(self):\n",
    "        fund_selector = None\n",
    "        for i in self.loading_wait(self.driver.find_elements,(By.TAG_NAME, \"ul\")):\n",
    "            if \"B-TREASURY\" in i.text:\n",
    "                fund_selector = i\n",
    "                break\n",
    "        self.click_fund(fund_selector)\n",
    "        self.click_submit_fund()\n",
    "\n",
    "    def click_fund(self, fund_selector):\n",
    "        fund_target = None\n",
    "        for i in self.loading_wait(fund_selector.find_elements,(By.TAG_NAME, 'li')):\n",
    "            if self.funds_name in i.text:\n",
    "                fund_target = i\n",
    "                break\n",
    "        fund_target.click()\n",
    "\n",
    "    def click_submit_fund(self):\n",
    "        self.loading_wait(self.driver.find_elements,(By.CLASS_NAME, 'submit'))[1].click()\n",
    "\n",
    "    def crawing_table(self):\n",
    "        script = \"\"\"\n",
    "        var rows = document.querySelectorAll(\"table tr\");\n",
    "        var filteredRows = [];\n",
    "        for (var i = 1; i < rows.length; i++) {\n",
    "            var cells = rows[i].querySelectorAll(\"td\");\n",
    "            if (cells.length === 6 && cells[1].textContent.trim() !== \"\") {\n",
    "                var row = [];\n",
    "                for (var j = 0; j < cells.length; j++) {\n",
    "                    row.push(cells[j].textContent.trim());\n",
    "                }\n",
    "                filteredRows.push(row);\n",
    "            }\n",
    "        }\n",
    "        return filteredRows;\n",
    "        \"\"\"\n",
    "        table_rows = self.driver.execute_script(script)\n",
    "\n",
    "        # To dataframe\n",
    "        schemas = ['date','NAV', 'NavperUnit', 'sellingPrice', 'redemptionPrice', 'change']\n",
    "        df = pd.DataFrame(table_rows, columns=schemas)\n",
    "\n",
    "        # To float\n",
    "        df.replace('N/A', None, inplace=True)\n",
    "        numerical = ['NAV', 'NavperUnit', 'sellingPrice', 'redemptionPrice', 'change']\n",
    "        for i in numerical:\n",
    "            df[i] = df[i].str.replace(',', \"\")\n",
    "            df[i] = df[i].astype(float)\n",
    "        df['fund_name'] = self.funds_name\n",
    "        self.table = df.copy()\n",
    "\n",
    "    def close(self):\n",
    "        self.driver.close()"
   ],
   "metadata": {
    "collapsed": false
   }
  },
  {
   "cell_type": "code",
   "execution_count": null,
   "outputs": [],
   "source": [
    "FetchTable = FetchTableBualuang(driver_path=DRIVER_PATH, root_url=ROOT_URL, funds_name=fund_goto[1])"
   ],
   "metadata": {
    "collapsed": false
   }
  },
  {
   "cell_type": "code",
   "execution_count": null,
   "outputs": [],
   "source": [
    "FetchTable.start()"
   ],
   "metadata": {
    "collapsed": false
   }
  },
  {
   "cell_type": "code",
   "execution_count": null,
   "outputs": [],
   "source": [
    "FetchTable.close()"
   ],
   "metadata": {
    "collapsed": false
   }
  },
  {
   "cell_type": "code",
   "execution_count": null,
   "outputs": [],
   "source": [
    "\n",
    "FetchTable.table"
   ],
   "metadata": {
    "collapsed": false
   }
  },
  {
   "cell_type": "code",
   "execution_count": null,
   "outputs": [],
   "source": [],
   "metadata": {
    "collapsed": false
   }
  },
  {
   "cell_type": "code",
   "execution_count": null,
   "outputs": [],
   "source": [],
   "metadata": {
    "collapsed": false
   }
  },
  {
   "cell_type": "markdown",
   "source": [
    "$L(y) = a\\frac{d^2y}{dx^2} + \\frac{dy}{dx}+cy$"
   ],
   "metadata": {
    "collapsed": false
   }
  },
  {
   "cell_type": "code",
   "execution_count": null,
   "outputs": [],
   "source": [],
   "metadata": {
    "collapsed": false
   }
  }
 ],
 "metadata": {
  "kernelspec": {
   "display_name": "Python 3",
   "language": "python",
   "name": "python3"
  },
  "language_info": {
   "codemirror_mode": {
    "name": "ipython",
    "version": 2
   },
   "file_extension": ".py",
   "mimetype": "text/x-python",
   "name": "python",
   "nbconvert_exporter": "python",
   "pygments_lexer": "ipython2",
   "version": "2.7.6"
  }
 },
 "nbformat": 4,
 "nbformat_minor": 0
}
